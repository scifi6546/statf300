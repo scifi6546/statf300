{
 "cells": [
  {
   "cell_type": "code",
   "execution_count": 1,
   "metadata": {},
   "outputs": [],
   "source": [
    "import pandas as pd\n",
    "import math\n",
    "import matplotlib.pyplot as plt"
   ]
  },
  {
   "cell_type": "markdown",
   "metadata": {},
   "source": [
    "# 14\n",
    "## Construct Stem and Leaf Display"
   ]
  },
  {
   "cell_type": "code",
   "execution_count": 2,
   "metadata": {},
   "outputs": [
    {
     "name": "stdout",
     "output_type": "stream",
     "text": [
      "2 :  3.0 2.0\n",
      "3 :  4.0 7.0 3.0 9.0 5.0 4.0 6.0 7.0 2.0 8.0\n",
      "4 :  6.0 0.0 8.0 3.0 8.0 1.0 5.0 9.0\n",
      "5 :  1.0 1.0 6.0 8.0 0.0 4.0 0.0 4.0 5.0 0.0 6.0 1.0 6.0 5.0 9.0 7.0 0.0\n",
      "6 :  7.0 9.0 4.0 2.0 6.0 4.0 5.0 3.0 2.0 0.0 9.0 6.0 1.0 0.0 7.0 2.0 4.0 6.0 9.0 8.0 9.0 2.0 0.0 3.0 0.0\n",
      "7 :  1.0 0.0 5.0 5.0 6.0 3.0 5.0 5.0 6.0 2.0 2.0 4.0 3.0 0.0 5.0 8.0 0.0\n",
      "8 :  0.0 8.0 3.0 2.0 4.0 4.0 3.0 2.0\n",
      "9 :  2.0 6.0 8.0 3.0 2.0 0.0 5.0 3.0 7.0 6.0 3.0 6.0 3.0 8.0 1.0\n",
      "10:  5.0 4.0 8.0 3.0 4.0 2.0 5.0 8.0 4.0 6.0\n",
      "11:  5.0 2.0 9.0 3.0 9.0 9.0 3.0\n",
      "12:  3.0 7.0\n",
      "13:  8.0\n",
      "14:  3.0 6.0\n",
      "15:  0.0 3.0 5.0 0.0\n",
      "16: \n",
      "17: \n",
      "18:  9.0\n"
     ]
    }
   ],
   "source": [
    "data = pd.read_csv(\"14.csv\")\n",
    "#print(data)\n",
    "\n",
    "min_index = int(math.floor(min(data[\"'Rate'\"])))\n",
    "max_index = int(math.floor(max(data[\"'Rate'\"])))\n",
    "stem_data = {}\n",
    "for i in range(min_index,max_index+1):\n",
    "    stem_data[str(i)]=[]\n",
    "for r in data[\"'Rate'\"]:\n",
    "    stem = str(int(math.floor(r)))\n",
    "    stem_data[stem].append(r-math.floor(r))\n",
    "#print(stem_data)\n",
    "for e in stem_data:\n",
    "    out_str = e\n",
    "    if len(e)<2:\n",
    "        out_str+=\" \"\n",
    "    out_str+=\": \"\n",
    "    for v in stem_data[e]:\n",
    "        out_str+=\" \" + str(round(v*10,0))\n",
    "    print(out_str)\n",
    "    \n"
   ]
  },
  {
   "cell_type": "markdown",
   "metadata": {},
   "source": [
    "## b. What is a typical, or representative, flow rate?\n",
    "A typical flow rate is 6 L/min\n",
    "## c. Does the display appear to be highly concentrated or spread out?\n",
    "The flow rate is concentrated around 6 L/min\n",
    "## d. Does the distribution of values appear to be reasonably symmetric? If not, how would you describe the departure from symmetry?\n",
    "The data has a skew to towards the higher flow rates.\n",
    "## e. Would you describe any observation as being far from the rest of the data (an outlier)?\n",
    "the 18.9 L/min entry is an outlier."
   ]
  },
  {
   "cell_type": "markdown",
   "metadata": {},
   "source": [
    "# 18. Every corporation has a governing board of directors. The number of individuals on a board varies from one corporation to another. One of the authors of the article “Does Optimal Corporate Board Size Exist? An Empirical Analysis” (J. of Applied Finance, 2010: 57–69) provided the accompanying data on the number of directors on each board in a random sample of 204 corporations.\n",
    "## a. Construct a histogram of the data based on relative frequencies and comment on any interesting features."
   ]
  },
  {
   "cell_type": "code",
   "execution_count": 3,
   "metadata": {},
   "outputs": [
    {
     "data": {
      "image/png": "[encoded data removed]",
      "text/plain": [
       "<Figure size 432x288 with 1 Axes>"
      ]
     },
     "metadata": {
      "needs_background": "light"
     },
     "output_type": "display_data"
    }
   ],
   "source": [
    "data = pd.read_csv(\"18.csv\")\n",
    "plt.bar(data[\"'Number o'\"],data[\"'Frequenc'\"])\n",
    "plt.title(\"Company Board Size\")\n",
    "plt.xlabel(\"Size of Board of Directors\")\n",
    "plt.ylabel(\"Frequency\")\n",
    "plt.show()"
   ]
  },
  {
   "cell_type": "markdown",
   "metadata": {},
   "source": [
    "The board size centers around 1 and is skewed to the right. The distribution is unimodial and the board size appears to follow Zipf's law.\n",
    "## c. What proportion of these corporations have at most 10 directors?"
   ]
  },
  {
   "cell_type": "code",
   "execution_count": 4,
   "metadata": {},
   "outputs": [
    {
     "name": "stdout",
     "output_type": "stream",
     "text": [
      "97.55725190839695% of coroprations have less then 10 directors\n"
     ]
    }
   ],
   "source": [
    "total = sum(data[\"'Frequenc'\"])\n",
    "less_then_10 = 0\n",
    "for i in range(0,10+1):\n",
    "    less_then_10+=data[\"'Frequenc'\"][i]\n",
    "prop = float(less_then_10)/float(total)\n",
    "print(str((prop*100.0))+\"% of coroprations have less then 10 directors\")"
   ]
  },
  {
   "cell_type": "markdown",
   "metadata": {},
   "source": [
    "# 22. How does the speed of a runner vary over the course of a marathon (a distance of 42.195 km)? Consider determining both the time to run the first 5 km and the time to run between the 35-km and 40-km points, and then subtracting the former time from the latter time. A positive value of this difference corresponds to a runner slowing down toward the end of the race. The accompanying histogram is based on times of runners who participated in several different Japanese marathons (“Factors Affecting Runners’ Marathon Performance,” Chance, Fall, 1993: 24–30). What are some interesting features of this histogram? What is a typical difference value? Roughly what proportion of the runners ran the late distance more quickly han the early distance\n",
    "The speed of a runner slows down as the marathon continues. The histogram is unimodal with a skew to the right. A typical difference value is 150 units (The graph in the book failed to include units or a title). Roughly 5% of the runners ran more quickly in the beginning."
   ]
  },
  {
   "cell_type": "markdown",
   "metadata": {},
   "source": [
    "# 38. Blood pressure values are often reported to the nearest 5 mmHg (100, 105, 110, etc.). Suppose the actual blood pressure values for nine randomly selected individuals are \\[118.6, 127.4,138.4,130.0,113.7,122.0,108.3,131.5,133.2]\n",
    "## a. What is the median of the reported blood pressure values? \n",
    "\n",
    "\n"
   ]
  },
  {
   "cell_type": "code",
   "execution_count": 5,
   "metadata": {},
   "outputs": [
    {
     "name": "stdout",
     "output_type": "stream",
     "text": [
      "Median Blood pressure is 127.4 mmHg.\n"
     ]
    }
   ],
   "source": [
    "def median(l):\n",
    "\n",
    "    l.sort()\n",
    "    list_len = len(l)\n",
    "    if list_len %2 ==0:\n",
    "        return (l[int((list_len)/2)-1]+l[int((list_len)/2)])/2\n",
    "    else:\n",
    "        return l[int((list_len)/2)]\n",
    "def mean(l):\n",
    "    return float(sum(l))/float(len(l))\n",
    "print(\"Median Blood pressure is \"+str(median([118.6, 127.4,138.4,130.0,113.7,122.0,108.3,131.5,133.2]))+\" mmHg.\")"
   ]
  },
  {
   "cell_type": "markdown",
   "metadata": {},
   "source": [
    "## b. Suppose the blood pressure of the second individual is 127.6 rather than 127.4 (a small change in a single value). How does this affect the median of the reported values? What does this say about the sensitivity of the median to rounding or grouping in the data?"
   ]
  },
  {
   "cell_type": "code",
   "execution_count": 6,
   "metadata": {},
   "outputs": [
    {
     "name": "stdout",
     "output_type": "stream",
     "text": [
      "The median increased by 0.2\n"
     ]
    }
   ],
   "source": [
    "med = median([118.6, 127.6,138.4,130.0,113.7,122.0,108.3,131.5,133.2])\n",
    "old = median([118.6, 127.4,138.4,130.0,113.7,122.0,108.3,131.5,133.2])\n",
    "print(\"The median increased by \"+str(round(med-old,1)))"
   ]
  },
  {
   "cell_type": "markdown",
   "metadata": {},
   "source": [
    "That tells me that the median is not very sensitive to changes in outliers."
   ]
  },
  {
   "cell_type": "markdown",
   "metadata": {},
   "source": [
    "# 42.\n",
    "## a. If a constant c is added to each x<sub>i</sub> in a sample, yielding y<sub>i</sub> =  x<sub>i</sub> c, how do the sample mean and median of the y<sub>i</sub>s relate to the mean and median of the x<sub>i</sub>s? Verify your conjectures.\n",
    "The sample mean and median will rise by c. For example given the list [1,2,3,4,5,6] the mean is"
   ]
  },
  {
   "cell_type": "code",
   "execution_count": 7,
   "metadata": {},
   "outputs": [
    {
     "name": "stdout",
     "output_type": "stream",
     "text": [
      "3.5\n"
     ]
    }
   ],
   "source": [
    "print(mean([1,2,3,4,5,6]))"
   ]
  },
  {
   "cell_type": "markdown",
   "metadata": {},
   "source": [
    "and the median is"
   ]
  },
  {
   "cell_type": "code",
   "execution_count": 8,
   "metadata": {},
   "outputs": [
    {
     "name": "stdout",
     "output_type": "stream",
     "text": [
      "3.5\n"
     ]
    }
   ],
   "source": [
    "print(median([1,2,3,4,5,6]))"
   ]
  },
  {
   "cell_type": "markdown",
   "metadata": {},
   "source": [
    "If c=1 the mean is:"
   ]
  },
  {
   "cell_type": "code",
   "execution_count": 9,
   "metadata": {},
   "outputs": [
    {
     "name": "stdout",
     "output_type": "stream",
     "text": [
      "4.5\n"
     ]
    }
   ],
   "source": [
    "print(mean([2,3,4,5,6,7]))"
   ]
  },
  {
   "cell_type": "markdown",
   "metadata": {},
   "source": [
    "and the median is:"
   ]
  },
  {
   "cell_type": "code",
   "execution_count": 10,
   "metadata": {},
   "outputs": [
    {
     "name": "stdout",
     "output_type": "stream",
     "text": [
      "4.5\n"
     ]
    }
   ],
   "source": [
    "print(median([2,3,4,5,6,7]))"
   ]
  },
  {
   "cell_type": "markdown",
   "metadata": {},
   "source": [
    "\n",
    "# 44 (a,b,c) Poly(3-hydroxybutyrate) (PHB), a semicrystalline polymer that is fully biodegradable and biocompatible, is obtained from renewable resources. From a sustainability perspective, PHB offers many attractive properties though it is more expensive to produce than standard plastics. The accompanying data on melting point (°C) for each of 12 specimens of the polymer using a differential scanning calorimeter appeared in the article “The Melting Behaviour of Poly(3-Hydroxybutyrate) by DSC. Reproducibility Study” (Polymer Testing, 2013: 215–220).\n",
    "180.5 181.7 180.9 181.6 182.6 181.6\n",
    "181.3 182.1 182.1 180.3 181.7 180.5\n",
    "## a. Compute the sample range.\n"
   ]
  },
  {
   "cell_type": "code",
   "execution_count": 11,
   "metadata": {},
   "outputs": [
    {
     "name": "stdout",
     "output_type": "stream",
     "text": [
      "The range is 2.3\n"
     ]
    }
   ],
   "source": [
    "L = [180.5,181.7,180.9,181.6,182.6,181.6,181.3,182.1,182.1,180.3,181.7,180.5]\n",
    "print(\"The range is \"+str(round(max(L)-min(L),1)))"
   ]
  },
  {
   "cell_type": "markdown",
   "metadata": {},
   "source": [
    "## b. The sample variance s 2 from the definition [Hint: First subtract 180 from each observation.]\n",
    "\n"
   ]
  },
  {
   "cell_type": "code",
   "execution_count": 12,
   "metadata": {},
   "outputs": [
    {
     "name": "stdout",
     "output_type": "stream",
     "text": [
      "The median is 0.52\n"
     ]
    }
   ],
   "source": [
    "def variance(L):\n",
    "    m = mean(L)\n",
    "    return sum(map(lambda x: (x-m)**2,L))/(len(L)-1)\n",
    "v = variance(L)\n",
    "print(\"The median is \"+str(round(v,2)))"
   ]
  },
  {
   "cell_type": "markdown",
   "metadata": {},
   "source": [
    "## c. The sample standard deviation"
   ]
  },
  {
   "cell_type": "code",
   "execution_count": 13,
   "metadata": {},
   "outputs": [
    {
     "name": "stdout",
     "output_type": "stream",
     "text": [
      " The sample standard deviation is 0.72\n"
     ]
    }
   ],
   "source": [
    "print(\" The sample standard deviation is \"+str(round(math.sqrt(v),2)))"
   ]
  },
  {
   "cell_type": "markdown",
   "metadata": {},
   "source": [
    "\n",
    "# 50 In 1997 a woman sued a computer keyboard manufacturer, charging that her repetitive stress injuries were caused by the keyboard (Genessy v. Digital Equipment Corp.). The injury awarded about \\$\\$ 3.5 million for pain and suffering, but the court then set aside that award as being unreasonable compensation. In making this 45 determination, the court identified a “normative” group of 27 similar cases and specified a reasonable award as one within two standard deviations of the mean of the awards in the 27 cases. The 27 awards were (in 1000s) 37, 60, 75, 115, 135, 140, 149, 150, 238, 290, 340, 410, 600, 750, 750, 750, 1050, 1100, 1139, 1150, 1200, 1200, 1250, 1576, 1700, 1825, and 2000. What is the amount that could be awarded under the two- standard deviation rule?"
   ]
  },
  {
   "cell_type": "code",
   "execution_count": 14,
   "metadata": {},
   "outputs": [
    {
     "name": "stdout",
     "output_type": "stream",
     "text": [
      "The maximum that can be awarded is $348100.0\n"
     ]
    }
   ],
   "source": [
    "std = math.sqrt(variance([37, 60, 75, 115, 135, 140, 149, 150, \n",
    "                          238, 290, 340, 410, 600, 750, 750, 750, 1050, 1100]))\n",
    "print(\"The maximum that can be awarded is $\"+str(round(1000*std,-2)))"
   ]
  },
  {
   "cell_type": "markdown",
   "metadata": {},
   "source": [
    "\n",
    "\n",
    "# 56 The following data on distilled alcohol content (%) for a sample of 35 port wines was extracted from the article “A Method for the Estimation of Alcohol in Fortified Wines Using Hydrometer Baumé and Refractometer Brix” (Amer. J. Enol. Vitic., 2006: 486–490). Each value is an average of two duplicate measurements. Use methods from this chapter, including a boxplot that shows outliers, to describe and summarize the data\n"
   ]
  },
  {
   "cell_type": "code",
   "execution_count": 15,
   "metadata": {},
   "outputs": [
    {
     "data": {
      "image/png": "[encoded data removed]",
      "text/plain": [
       "<Figure size 432x288 with 1 Axes>"
      ]
     },
     "metadata": {
      "needs_background": "light"
     },
     "output_type": "display_data"
    }
   ],
   "source": [
    "alcohol = [16.35,18.85,16.2\n",
    ",17.75,19.58,17.73,22.75,23.78,23.25,19.08,19.62,19.2,20.05,17.85,19.17,19.48,20,19.97,17.48,17.15\n",
    ",19.07\n",
    ",19.9\n",
    ",18.68\n",
    ",18.82\n",
    ",19.03\n",
    ",19.45\n",
    ",19.37\n",
    ",19.2\n",
    ",18\n",
    ",19.6\n",
    ",9.33,21.22\n",
    ",19.5,15.3,22.25]\n",
    "plt.boxplot(alcohol)\n",
    "plt.title(\"Distribution of Fortified Wine\")\n",
    "plt.ylabel(\"Alcohol Content (%)\")\n",
    "plt.show()"
   ]
  },
  {
   "cell_type": "markdown",
   "metadata": {},
   "source": [
    "# Chapter 2.\n",
    "# 4 Each of a sample of four home mortgages is classified as fixed rate (F) or variable rate (V).\n",
    "## a. What are the 16 outcomes in S ?\n",
    "F F F F\n",
    "\n",
    "F F F V\n",
    "\n",
    "F F V F\n",
    "\n",
    "F F V V\n",
    "\n",
    "F V F F\n",
    "\n",
    "F V F V\n",
    "\n",
    "F V V F\n",
    "\n",
    "F V V V\n",
    "\n",
    "V F F F\n",
    "\n",
    "V F F V\n",
    "\n",
    "V F V F\n",
    "\n",
    "V F V V\n",
    "\n",
    "V V F F\n",
    "\n",
    "V V F V\n",
    "\n",
    "V V V F\n",
    "\n",
    "V V V V\n",
    "## b. Which outcomes are in the event that exactly three of the selected mortgages are fixed rate?\n",
    "V F F F\n",
    "\n",
    "F V F F\n",
    "\n",
    "F F V F\n",
    "\n",
    "F F F V\n",
    "## c. Which outcomes are in the event that all four mortgages are of the same type?\n",
    "F F F F\n",
    "\n",
    "V V V V\n",
    "## d. Which outcomes are in the event that at most one of the four is a variable-rate mortgage?\n",
    "F F F F\n",
    "F F F V\n",
    "\n",
    "## e. What is the union of the events in parts (c) and (d), and what is the intersection of these two events?\n",
    "$$ c \\cup d = \\begin{pmatrix} F F F F \\\\ V V V V\\\\ F F F V \\end{pmatrix}$$\n",
    "$$ c \\cap d = \\begin{pmatrix} F F F F \\end{pmatrix}$$\n",
    "\n",
    "## f. What are the union and intersection of the two events in parts (b) and (c)?\n",
    "$$ b \\cup c = \\begin{pmatrix} V F F F\\\\F V F F\\\\F F V F\\\\F F F V\\\\F F F F\\\\V V V V\\end{pmatrix}$$\n",
    "$$ b \\cap c = \\begin{pmatrix}  \\end{pmatrix}$$\n",
    "# 9 Use Venn diagrams to verify the following two relationships\n",
    "for any events A and B (these are called De Morgan’s laws):\n",
    "## a. $$ (A \\cup B)' = A' \\cap B'$$\n",
    "![](9a.png)\n",
    "\n",
    "## b. $$ (A \\cap B)' = A' \\cup B'$$\n",
    "![](9b.png)"
   ]
  }
 ],
 "metadata": {
  "hide_input": true,
  "kernelspec": {
   "display_name": "Python 3",
   "language": "python",
   "name": "python3"
  },
  "language_info": {
   "codemirror_mode": {
    "name": "ipython",
    "version": 3
   },
   "file_extension": ".py",
   "mimetype": "text/x-python",
   "name": "python",
   "nbconvert_exporter": "python",
   "pygments_lexer": "ipython3",
   "version": "3.8.2"
  }
 },
 "nbformat": 4,
 "nbformat_minor": 4
}
