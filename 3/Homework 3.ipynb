{
 "cells": [
  {
   "cell_type": "markdown",
   "metadata": {},
   "source": [
    "# Nicholas Alexeev"
   ]
  },
  {
   "cell_type": "markdown",
   "metadata": {},
   "source": [
    "# 56 For any events A and B with $$ P(B) > 0$$ show that $$ P(A|B) + P(A'|B) = 1 $$\n",
    "\n"
   ]
  },
  {
   "cell_type": "markdown",
   "metadata": {},
   "source": [
    "## 74. The proportions of blood phenotypes in the U.S. population are as follows:\n",
    "\n",
    "| A | B | AB | O |\n",
    "|---|---|----|---|\n",
    "|0.4|0.11|0.04|0.45|\n",
    "\n",
    "## Assuming that the phenotypes of two randomly selected individuals are independent of one another, what is the probability that both phenotypes are O? What is the probability that the phenotypes of two randomly selected individuals match?\n",
    "\n",
    "## 78. A boiler has five identical relief valves. The probability that any particular valve will open on demand is .96. Assuming independent operation of the valves, calculate $$ P(at least one valve opens)$$ and $$ P(at least one valve fails to open) $$."
   ]
  },
  {
   "cell_type": "markdown",
   "metadata": {},
   "source": [
    "## 82. Consider independently rolling two fair dice, one red and the other green. Let A be the event that the red die shows 3 dots, B be the event that the green die shows 4 dots, and C be the event that the total number of dots showing on the two dice is 7. Are these events pairwise independent (i.e., are A and B independent events, are A and C independent, and are B and C independent)? Are the three events mutually independent?]\n",
    "\n"
   ]
  },
  {
   "cell_type": "markdown",
   "metadata": {},
   "source": [
    "## 88. The probability that an individual randomly selected from a particular population has a certain disease is .05. A diagnostic test correctly detects the presence of the disease 98% of the time and correctly detects the absence of the disease 99% of the time. If the test is applied twice, the two test results are independent, and both are positive, what is the (posterior) probability that the selected individual has the disease? \\[Hint: Tree diagram with first-generation branches corresponding to Disease and No Disease, and second- and third generation branches corresponding to results of the two tests.]"
   ]
  },
  {
   "cell_type": "markdown",
   "metadata": {},
   "source": [
    "## 2. Give three examples of Bernoulli rv’s (other than those in the text)."
   ]
  },
  {
   "cell_type": "markdown",
   "metadata": {},
   "source": [
    "## Airlines sometimes overbook flights. Suppose that for a plane with 50 seats, 55 passengers have tickets. Define the random variable Y as the number of ticketed passengers who actually show up for the flight. The probability mass function of Y appears in the accompanying table.\n",
    "\n",
    "| y  | 45 | 46 | 47 | 48 | 49 | 50 | 51 | 52 | 53 | 54 | 55 | \n",
    "|----|----|----|----|----|----|----|----|----|----|----|----|\n",
    "|p(y)|0.05|0.10|0.12|0.14|0.25|0.17|0.06|0.05|0.03|0.02|0.01|\n",
    "\n",
    "### a. What is the probability that the flight will accommodate all ticketed passengers who show up?\n",
    "\n",
    "### b. What is the probability that not all ticketed passengers who show up can be accommodated?\n",
    "\n",
    "### c. If you are the first person on the standby list (which means you will be the first one to get on the plane if there are any seats available after all ticketed passengers have been accommodated), what is the probability that you will be able to take the flight? What is this probability if you are the third person on the standby list?"
   ]
  },
  {
   "cell_type": "markdown",
   "metadata": {},
   "source": [
    "## 14.  A contractor is required by a county planning department to submit one, two, three, four, or five forms (depending on the nature of the project) in applying for a building permit. Let $$ Y = the number of forms required of the next applicant $$. The probability that y forms are required is known to be proportional to y - that is, p(y) = ky for y = 1...5\n",
    "\n",
    "### a. What is the value of k? \\[Hint $$\\sum_{y=1}^{5}p(y) = 1 $$\\]\n",
    "\n",
    "### b. What is the probability that at most three forms are required?\n",
    "\n",
    "### c. What is the probability that between two and four forms (inclusive) are required?\n",
    "\n",
    "### d. Could $$ p(y) = y^2/50 $$ for y..5 be the pmf of Y?"
   ]
  },
  {
   "cell_type": "markdown",
   "metadata": {},
   "source": [
    "## 18. Two fair six-sided dice are tossed independently. Let $$ M = the maximum of the two tosses $$ ( so M(1,5) = 5. M(3,3)= 3 etc.).\n",
    "\n",
    "### a. What is the pmf of M? \\[Hint: First determine p(1), then p(2), and so on.\\]\n",
    "\n",
    "### b. Determine the cdf of M and graph it."
   ]
  }
 ],
 "metadata": {
  "hide_input": false,
  "kernelspec": {
   "display_name": "Python 3",
   "language": "python",
   "name": "python3"
  },
  "language_info": {
   "codemirror_mode": {
    "name": "ipython",
    "version": 3
   },
   "file_extension": ".py",
   "mimetype": "text/x-python",
   "name": "python",
   "nbconvert_exporter": "python",
   "pygments_lexer": "ipython3",
   "version": "3.8.2"
  }
 },
 "nbformat": 4,
 "nbformat_minor": 4
}
